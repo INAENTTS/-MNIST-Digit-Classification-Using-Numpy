{
  "nbformat": 4,
  "nbformat_minor": 0,
  "metadata": {
    "colab": {
      "provenance": [],
      "authorship_tag": "ABX9TyNHr3lNsFbdWN7bGDPTj71N",
      "include_colab_link": true
    },
    "kernelspec": {
      "name": "python3",
      "display_name": "Python 3"
    },
    "language_info": {
      "name": "python"
    }
  },
  "cells": [
    {
      "cell_type": "markdown",
      "metadata": {
        "id": "view-in-github",
        "colab_type": "text"
      },
      "source": [
        "<a href=\"https://colab.research.google.com/github/INAENTTS/-MNIST-Digit-Classification-Using-Numpy/blob/main/Numpy_Single_Layer_MNIST_Digit_Classifier.ipynb\" target=\"_parent\"><img src=\"https://colab.research.google.com/assets/colab-badge.svg\" alt=\"Open In Colab\"/></a>"
      ]
    },
    {
      "cell_type": "code",
      "execution_count": 2,
      "metadata": {
        "colab": {
          "base_uri": "https://localhost:8080/"
        },
        "id": "2ZqaBjLzfONk",
        "outputId": "bc9fbb88-da1a-49c5-dbe7-1bd7530cb7d5"
      },
      "outputs": [
        {
          "output_type": "stream",
          "name": "stdout",
          "text": [
            "--2023-10-15 13:21:56--  http://yann.lecun.com/exdb/mnist/train-images-idx3-ubyte.gz\n",
            "Resolving yann.lecun.com (yann.lecun.com)... 188.114.97.0, 188.114.96.0, 2a06:98c1:3121::1, ...\n",
            "Connecting to yann.lecun.com (yann.lecun.com)|188.114.97.0|:80... connected.\n",
            "HTTP request sent, awaiting response... 200 OK\n",
            "Length: 9912422 (9.5M) [application/x-gzip]\n",
            "Saving to: ‘/content/data/train-images-idx3-ubyte.gz’\n",
            "\n",
            "\r          train-ima   0%[                    ]       0  --.-KB/s               \rtrain-images-idx3-u 100%[===================>]   9.45M  --.-KB/s    in 0.05s   \n",
            "\n",
            "2023-10-15 13:21:57 (193 MB/s) - ‘/content/data/train-images-idx3-ubyte.gz’ saved [9912422/9912422]\n",
            "\n",
            "--2023-10-15 13:21:57--  http://yann.lecun.com/exdb/mnist/train-labels-idx1-ubyte.gz\n",
            "Resolving yann.lecun.com (yann.lecun.com)... 188.114.97.0, 188.114.96.0, 2a06:98c1:3121::1, ...\n",
            "Connecting to yann.lecun.com (yann.lecun.com)|188.114.97.0|:80... connected.\n",
            "HTTP request sent, awaiting response... 200 OK\n",
            "Length: 28881 (28K) [application/x-gzip]\n",
            "Saving to: ‘/content/data/train-labels-idx1-ubyte.gz’\n",
            "\n",
            "train-labels-idx1-u 100%[===================>]  28.20K  --.-KB/s    in 0s      \n",
            "\n",
            "2023-10-15 13:21:57 (372 MB/s) - ‘/content/data/train-labels-idx1-ubyte.gz’ saved [28881/28881]\n",
            "\n",
            "--2023-10-15 13:21:57--  http://yann.lecun.com/exdb/mnist/t10k-images-idx3-ubyte.gz\n",
            "Resolving yann.lecun.com (yann.lecun.com)... 188.114.97.0, 188.114.96.0, 2a06:98c1:3121::1, ...\n",
            "Connecting to yann.lecun.com (yann.lecun.com)|188.114.97.0|:80... connected.\n",
            "HTTP request sent, awaiting response... 200 OK\n",
            "Length: 1648877 (1.6M) [application/x-gzip]\n",
            "Saving to: ‘/content/data/t10k-images-idx3-ubyte.gz’\n",
            "\n",
            "t10k-images-idx3-ub 100%[===================>]   1.57M  --.-KB/s    in 0.02s   \n",
            "\n",
            "2023-10-15 13:21:57 (63.0 MB/s) - ‘/content/data/t10k-images-idx3-ubyte.gz’ saved [1648877/1648877]\n",
            "\n",
            "--2023-10-15 13:21:57--  http://yann.lecun.com/exdb/mnist/t10k-labels-idx1-ubyte.gz\n",
            "Resolving yann.lecun.com (yann.lecun.com)... 188.114.97.0, 188.114.96.0, 2a06:98c1:3121::1, ...\n",
            "Connecting to yann.lecun.com (yann.lecun.com)|188.114.97.0|:80... connected.\n",
            "HTTP request sent, awaiting response... 200 OK\n",
            "Length: 4542 (4.4K) [application/x-gzip]\n",
            "Saving to: ‘/content/data/t10k-labels-idx1-ubyte.gz’\n",
            "\n",
            "t10k-labels-idx1-ub 100%[===================>]   4.44K  --.-KB/s    in 0s      \n",
            "\n",
            "2023-10-15 13:21:57 (496 MB/s) - ‘/content/data/t10k-labels-idx1-ubyte.gz’ saved [4542/4542]\n",
            "\n",
            "Collecting idx2numpy\n",
            "  Downloading idx2numpy-1.2.3.tar.gz (6.8 kB)\n",
            "  Preparing metadata (setup.py) ... \u001b[?25l\u001b[?25hdone\n",
            "Requirement already satisfied: numpy in /usr/local/lib/python3.10/dist-packages (from idx2numpy) (1.23.5)\n",
            "Requirement already satisfied: six in /usr/local/lib/python3.10/dist-packages (from idx2numpy) (1.16.0)\n",
            "Building wheels for collected packages: idx2numpy\n",
            "  Building wheel for idx2numpy (setup.py) ... \u001b[?25l\u001b[?25hdone\n",
            "  Created wheel for idx2numpy: filename=idx2numpy-1.2.3-py3-none-any.whl size=7904 sha256=a15049cc5d02b9b5d5a12a201d99f9a598adf68d4d509d013a726e3f195d278f\n",
            "  Stored in directory: /root/.cache/pip/wheels/e0/f4/e7/643fc5f932ec2ff92997f43f007660feb23f948aa8486f1107\n",
            "Successfully built idx2numpy\n",
            "Installing collected packages: idx2numpy\n",
            "Successfully installed idx2numpy-1.2.3\n"
          ]
        }
      ],
      "source": [
        "!wget -P /content/data http://yann.lecun.com/exdb/mnist/train-images-idx3-ubyte.gz\n",
        "!wget -P /content/data http://yann.lecun.com/exdb/mnist/train-labels-idx1-ubyte.gz\n",
        "!wget -P /content/data http://yann.lecun.com/exdb/mnist/t10k-images-idx3-ubyte.gz\n",
        "!wget -P /content/data http://yann.lecun.com/exdb/mnist/t10k-labels-idx1-ubyte.gz\n",
        "!pip install idx2numpy"
      ]
    },
    {
      "cell_type": "code",
      "source": [
        "from google.colab import drive\n",
        "drive.mount('/content/drive')"
      ],
      "metadata": {
        "colab": {
          "base_uri": "https://localhost:8080/"
        },
        "id": "YS1N7uf7gJjs",
        "outputId": "9bd8a395-7fdb-4247-b204-079d6b4880e1"
      },
      "execution_count": 4,
      "outputs": [
        {
          "output_type": "stream",
          "name": "stdout",
          "text": [
            "Mounted at /content/drive\n"
          ]
        }
      ]
    },
    {
      "cell_type": "code",
      "source": [
        "import gzip\n",
        "import math\n",
        "import numpy as np\n",
        "import matplotlib.pyplot as plt\n",
        "import matplotlib.image as mpimg\n",
        "import idx2numpy\n",
        "import cv2\n",
        "from google.colab.patches import cv2_imshow"
      ],
      "metadata": {
        "id": "DLpj0SzAfP42"
      },
      "execution_count": 5,
      "outputs": []
    },
    {
      "cell_type": "code",
      "source": [
        "f1 = gzip.open('/content/data/train-images-idx3-ubyte.gz')\n",
        "f2 = gzip.open('/content/data/train-labels-idx1-ubyte.gz')\n",
        "f3 = gzip.open('/content/data/t10k-images-idx3-ubyte.gz')\n",
        "f4 = gzip.open('/content/data/t10k-labels-idx1-ubyte.gz')\n",
        "data1 = idx2numpy.convert_from_file(f1)\n",
        "label = idx2numpy.convert_from_file(f2)\n",
        "img = data1.reshape(data1.shape[0], -1).T/255\n",
        "lab = np.eye(10)[label]\n",
        "lab = lab.T"
      ],
      "metadata": {
        "id": "h0BbODVlfP1S"
      },
      "execution_count": 6,
      "outputs": []
    },
    {
      "cell_type": "code",
      "source": [
        "W = np.random.randn(784,10)*0.001\n",
        "b = 0\n",
        "\n",
        "def softmax(x):\n",
        "  expo = np.exp(x - x.max())\n",
        "  expo = expo/np.sum(expo, keepdims = True, axis = 0)\n",
        "  return expo\n",
        "\n",
        "def d_softmax(x):\n",
        "    exp_element = np.exp(x - x.max())\n",
        "    exp_element = exp_element/np.sum(exp_element,axis=0)*(1-exp_element/np.sum(exp_element,axis=0))\n",
        "    return exp_element\n",
        "\n",
        "\n",
        "cost = 0\n",
        "cost_func = []\n",
        "accuracy = []"
      ],
      "metadata": {
        "id": "P2dkh0j-fPyz"
      },
      "execution_count": 7,
      "outputs": []
    },
    {
      "cell_type": "code",
      "source": [
        "alpha = 0.5"
      ],
      "metadata": {
        "id": "ESfY0eACfPvz"
      },
      "execution_count": 8,
      "outputs": []
    },
    {
      "cell_type": "code",
      "source": [
        "for i in range(0,300):\n",
        "  #Forward Prop\n",
        "  Z = np.dot(W.T, img) + b\n",
        "  A = softmax(Z)\n",
        "\n",
        "  #Getting Output\n",
        "  out = A.reshape(10,60000)\n",
        "  guess = np.argmax(out, axis = 0)\n",
        "\n",
        "  #Printing Output\n",
        "  if i%10 == 0:\n",
        "    print(label)\n",
        "    print(guess)\n",
        "\n",
        "  #Loss and Cost\n",
        "  loss = -np.sum(lab*np.log(A + 0.000001) + (1-lab)*np.log(1-A + 0.000001), keepdims = True, axis = 0)\n",
        "  cost = np.sum(loss, keepdims = True, axis = 1)/60000\n",
        "  cost = float(np.squeeze(cost))\n",
        "  cost_func.append(cost)\n",
        "  if i%10==0:\n",
        "    print(cost)\n",
        "\n",
        "  #Getting Accuracy\n",
        "  OH_out = (np.eye(10)[guess]).T\n",
        "  acc = np.multiply(OH_out, lab)\n",
        "  acc = np.sum(acc)/600\n",
        "  accuracy.append(acc)\n",
        "\n",
        "  if i%10 == 0:\n",
        "    print(acc)\n",
        "\n",
        "  #Backward Prop\n",
        "  dZ = A - lab\n",
        "  dW = np.dot(img, dZ.T)/60000\n",
        "  db = np.sum(dZ, keepdims=True, axis=1)/60000\n",
        "  W = W - alpha*dW\n",
        "  b = b - alpha*db"
      ],
      "metadata": {
        "colab": {
          "base_uri": "https://localhost:8080/"
        },
        "id": "ei_U3a6_fPs_",
        "outputId": "45a505bf-a5e9-4086-858b-237cc192f2ba"
      },
      "execution_count": 9,
      "outputs": [
        {
          "output_type": "stream",
          "name": "stdout",
          "text": [
            "[5 0 4 ... 5 6 8]\n",
            "[9 9 3 ... 9 6 7]\n",
            "3.251177793876991\n",
            "8.505\n",
            "[5 0 4 ... 5 6 8]\n",
            "[5 0 4 ... 5 6 8]\n",
            "1.2889737050651697\n",
            "83.92666666666666\n",
            "[5 0 4 ... 5 6 8]\n",
            "[5 0 4 ... 5 6 8]\n",
            "1.0067977813376758\n",
            "86.12\n",
            "[5 0 4 ... 5 6 8]\n",
            "[5 0 4 ... 5 6 8]\n",
            "0.8874024436091368\n",
            "87.065\n",
            "[5 0 4 ... 5 6 8]\n",
            "[5 0 4 ... 5 6 8]\n",
            "0.8183015631235144\n",
            "87.71666666666667\n",
            "[5 0 4 ... 5 6 8]\n",
            "[5 0 4 ... 5 6 8]\n",
            "0.7720921487140235\n",
            "88.17166666666667\n",
            "[5 0 4 ... 5 6 8]\n",
            "[5 0 4 ... 5 6 8]\n",
            "0.7384636243978003\n",
            "88.55\n",
            "[5 0 4 ... 5 6 8]\n",
            "[5 0 4 ... 5 6 8]\n",
            "0.7125923338981651\n",
            "88.85666666666667\n",
            "[5 0 4 ... 5 6 8]\n",
            "[5 0 4 ... 5 6 8]\n",
            "0.6918915462678021\n",
            "89.07333333333334\n",
            "[5 0 4 ... 5 6 8]\n",
            "[5 0 4 ... 5 6 8]\n",
            "0.6748369337009344\n",
            "89.28\n",
            "[5 0 4 ... 5 6 8]\n",
            "[5 0 4 ... 5 6 8]\n",
            "0.6604657973263928\n",
            "89.45833333333333\n",
            "[5 0 4 ... 5 6 8]\n",
            "[5 0 4 ... 5 6 8]\n",
            "0.648136944344591\n",
            "89.60333333333334\n",
            "[5 0 4 ... 5 6 8]\n",
            "[5 0 4 ... 5 6 8]\n",
            "0.6374049347198762\n",
            "89.75833333333334\n",
            "[5 0 4 ... 5 6 8]\n",
            "[5 0 4 ... 5 6 8]\n",
            "0.6279495319111728\n",
            "89.85333333333334\n",
            "[5 0 4 ... 5 6 8]\n",
            "[5 0 4 ... 5 6 8]\n",
            "0.6195338729634704\n",
            "89.97833333333334\n",
            "[5 0 4 ... 5 6 8]\n",
            "[5 0 4 ... 5 6 8]\n",
            "0.6119785124161683\n",
            "90.095\n",
            "[5 0 4 ... 5 6 8]\n",
            "[5 0 4 ... 5 6 8]\n",
            "0.6051446902572325\n",
            "90.16333333333333\n",
            "[5 0 4 ... 5 6 8]\n",
            "[5 0 4 ... 5 6 8]\n",
            "0.598923190287722\n",
            "90.23833333333333\n",
            "[5 0 4 ... 5 6 8]\n",
            "[5 0 4 ... 5 6 8]\n",
            "0.5932267106444749\n",
            "90.295\n",
            "[5 0 4 ... 5 6 8]\n",
            "[5 0 4 ... 5 6 8]\n",
            "0.587984510451838\n",
            "90.35833333333333\n",
            "[5 0 4 ... 5 6 8]\n",
            "[5 0 4 ... 5 6 8]\n",
            "0.5831385721560619\n",
            "90.425\n",
            "[5 0 4 ... 5 6 8]\n",
            "[5 0 4 ... 5 6 8]\n",
            "0.5786407976081681\n",
            "90.50166666666667\n",
            "[5 0 4 ... 5 6 8]\n",
            "[5 0 4 ... 5 6 8]\n",
            "0.5744509243608936\n",
            "90.57166666666667\n",
            "[5 0 4 ... 5 6 8]\n",
            "[5 0 4 ... 5 6 8]\n",
            "0.5705349533873921\n",
            "90.61\n",
            "[5 0 4 ... 5 6 8]\n",
            "[5 0 4 ... 5 6 8]\n",
            "0.5668639462412023\n",
            "90.67\n",
            "[5 0 4 ... 5 6 8]\n",
            "[5 0 4 ... 5 6 8]\n",
            "0.5634130932701986\n",
            "90.73\n",
            "[5 0 4 ... 5 6 8]\n",
            "[5 0 4 ... 5 6 8]\n",
            "0.5601609835285517\n",
            "90.77166666666666\n",
            "[5 0 4 ... 5 6 8]\n",
            "[5 0 4 ... 5 6 8]\n",
            "0.5570890267269007\n",
            "90.82333333333334\n",
            "[5 0 4 ... 5 6 8]\n",
            "[5 0 4 ... 5 6 8]\n",
            "0.5541809911521909\n",
            "90.875\n",
            "[5 0 4 ... 5 6 8]\n",
            "[5 0 4 ... 5 6 8]\n",
            "0.5514226310140963\n",
            "90.915\n"
          ]
        }
      ]
    },
    {
      "cell_type": "code",
      "source": [
        "plt.plot(cost_func)\n",
        "plt.title(\"Single Layer Loss\")\n",
        "plt.show()\n",
        "plt.plot(accuracy)\n",
        "plt.title(\"Single Layer Accuracy\")\n",
        "plt.show()"
      ],
      "metadata": {
        "colab": {
          "base_uri": "https://localhost:8080/",
          "height": 887
        },
        "id": "O38tfESWfPqF",
        "outputId": "15874cb1-00cf-4124-d828-9073a7a6a9f8"
      },
      "execution_count": 10,
      "outputs": [
        {
          "output_type": "display_data",
          "data": {
            "text/plain": [
              "<Figure size 640x480 with 1 Axes>"
            ],
            "image/png": "[encoded data removed]"
          },
          "metadata": {}
        },
        {
          "output_type": "display_data",
          "data": {
            "text/plain": [
              "<Figure size 640x480 with 1 Axes>"
            ],
            "image/png": "[encoded data removed]"
          },
          "metadata": {}
        }
      ]
    },
    {
      "cell_type": "code",
      "source": [],
      "metadata": {
        "id": "JhG9jUrSfPnR"
      },
      "execution_count": null,
      "outputs": []
    },
    {
      "cell_type": "code",
      "source": [],
      "metadata": {
        "id": "SBZIroexfPkZ"
      },
      "execution_count": null,
      "outputs": []
    },
    {
      "cell_type": "code",
      "source": [],
      "metadata": {
        "id": "aOncAPpLfPWM"
      },
      "execution_count": null,
      "outputs": []
    }
  ]
}