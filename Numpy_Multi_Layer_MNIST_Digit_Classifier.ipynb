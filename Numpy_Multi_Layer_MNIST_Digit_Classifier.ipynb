{
  "nbformat": 4,
  "nbformat_minor": 0,
  "metadata": {
    "colab": {
      "provenance": [],
      "authorship_tag": "ABX9TyOsYOvCOYlw1k4Z8vt8LvP3",
      "include_colab_link": true
    },
    "kernelspec": {
      "name": "python3",
      "display_name": "Python 3"
    },
    "language_info": {
      "name": "python"
    }
  },
  "cells": [
    {
      "cell_type": "markdown",
      "metadata": {
        "id": "view-in-github",
        "colab_type": "text"
      },
      "source": [
        "<a href=\"https://colab.research.google.com/github/INAENTTS/-MNIST-Digit-Classification-Using-Numpy/blob/main/Numpy_Multi_Layer_MNIST_Digit_Classifier.ipynb\" target=\"_parent\"><img src=\"https://colab.research.google.com/assets/colab-badge.svg\" alt=\"Open In Colab\"/></a>"
      ]
    },
    {
      "cell_type": "code",
      "execution_count": null,
      "metadata": {
        "id": "jLe2K4iKljXF"
      },
      "outputs": [],
      "source": [
        "import numpy as np\n",
        "import matplotlib.pyplot as plt\n",
        "from keras.datasets import mnist"
      ]
    },
    {
      "cell_type": "code",
      "source": [
        "def softmax(x):\n",
        "  exp_element=np.exp(x-x.max())\n",
        "  return exp_element/np.sum(exp_element, keepdims=True, axis=0)\n",
        "\n",
        "def d_softmax(x):\n",
        "  exp_element=np.exp(x-x.max())\n",
        "  return exp_element/np.sum(exp_element,axis=0)*(1-exp_element/np.sum(exp_element,axis=0))\n",
        "\n",
        "def relu(x):\n",
        "  return np.maximum(0,x)\n",
        "\n",
        "def d_relu(da,z):\n",
        "  dz = np.array(da, copy=True)\n",
        "  dz[z<=0] = 0\n",
        "  dz[z>0] = 1\n",
        "  return dz\n",
        "\n",
        "def sigmoid(x):\n",
        "  return 1/(np.exp(-x)+1)\n",
        "\n",
        "def d_sigmoid(x):\n",
        "  return (np.exp(-x))/((np.exp(-x)+1)**2)\n",
        "\n",
        "def one_hot(row_vector, no_classes):\n",
        "  one_hot_vector = np.eye(no_classes)[row_vector.reshape(-1)]\n",
        "  return one_hot_vector.T"
      ],
      "metadata": {
        "id": "Mdj1RGAhluHl"
      },
      "execution_count": null,
      "outputs": []
    },
    {
      "cell_type": "code",
      "source": [
        "class NeuralNet:\n",
        "\n",
        "  def __init__(self, layers):\n",
        "    self.num_layers = len(layers)\n",
        "    num_layers = self.num_layers\n",
        "    self.W = []\n",
        "    self.B = []\n",
        "    for i in range(1, self.num_layers):\n",
        "      self.W.append(np.random.randn(layers[i], layers[i-1])*np.sqrt(2/layers[i-1]))\n",
        "      self.B.append(np.zeros((layers[i],1)))\n",
        "\n",
        "  def forward(self, X):\n",
        "    self.Z = []\n",
        "    self.A = []\n",
        "    self.A.append(X)\n",
        "    for i in range(1, self.num_layers-1):\n",
        "      self.Z.append(np.dot(self.W[i-1], self.A[i-1]) + self.B[i-1])\n",
        "      self.A.append(relu(self.Z[i-1]))\n",
        "    self.Z.append(np.dot(self.W[self.num_layers-2], self.A[self.num_layers-2]) + self.B[self.num_layers-2])\n",
        "    self.A.append(softmax(self.Z[self.num_layers-2]))\n",
        "    return self.Z, self.A\n",
        "\n",
        "  def cost(self, Y):\n",
        "    self.L = -np.sum(Y*np.log(self.A[self.num_layers-1] + 10**-7), keepdims=True, axis=0)\n",
        "    self.J = np.sum(self.L, keepdims=True, axis=1)/60000\n",
        "    return self.L, self.J\n",
        "\n",
        "  def accuracy(self, Y):\n",
        "    self.acc = np.multiply(self.A[-1], Y)\n",
        "    self.acc = np.sum(self.acc)/600\n",
        "    return self.acc\n",
        "\n",
        "  def backward(self, Y):\n",
        "    self.dA = []\n",
        "    self.dB = []\n",
        "    self.dW = []\n",
        "    self.dZ = []\n",
        "    self.dZ.append(self.A[self.num_layers-1] - Y)\n",
        "    self.dW.append(np.dot(self.dZ[0], self.A[self.num_layers-2].T)/60000)\n",
        "    self.dB.append(np.sum(self.dZ[0], axis=1, keepdims=True)/60000)\n",
        "    self.dA.append(np.dot(self.W[self.num_layers-2].T, self.dZ[0]))\n",
        "    for i in range(1,self.num_layers-1):\n",
        "      self.dZ.append(np.multiply(self.dA[i-1], d_relu(self.dA[i-1], self.Z[self.num_layers-i-2])))\n",
        "      self.dW.append(np.dot(self.dZ[i], self.A[self.num_layers-i-2].T)/60000)\n",
        "      self.dB.append(np.sum(self.dZ[i], axis=1, keepdims=True)/60000)\n",
        "      self.dA.append(np.dot(self.W[self.num_layers-i-2].T, self.dZ[i]))\n",
        "    return self.dA, self.dB, self.dW, self.dZ\n",
        "\n",
        "  def gradient(self, alpha):\n",
        "    for i in range(0,self.num_layers-1):\n",
        "      self.W[i] = self.W[i] - (alpha)*(self.dW[self.num_layers-i-2])\n",
        "      self.B[i] = self.B[i] - (alpha)*(self.dB[self.num_layers-i-2])\n",
        "    return self.W, self.B"
      ],
      "metadata": {
        "id": "KghXDU1UluD-"
      },
      "execution_count": null,
      "outputs": []
    },
    {
      "cell_type": "code",
      "source": [
        "(x_train, y_train), (x_test, y_test) = mnist.load_data()\n",
        "x_train = x_train.reshape(x_train.shape[0], -1).T\n",
        "x_test = x_test.reshape(x_test.shape[0], -1).T\n",
        "x_train = x_train.astype(float)\n",
        "x_test = x_test.astype(float)\n",
        "x_train /= 255\n",
        "x_test /= 255\n",
        "y_train = one_hot(y_train, 10)\n",
        "y_test = one_hot(y_test, 10)\n",
        "assert x_train.shape == (784, 60000)\n",
        "assert x_test.shape == (784, 10000)\n",
        "assert y_train.shape == (10, 60000)\n",
        "assert y_test.shape == (10, 10000)"
      ],
      "metadata": {
        "colab": {
          "base_uri": "https://localhost:8080/"
        },
        "id": "OxTBM24PluAw",
        "outputId": "d6987812-6b42-437c-a209-42f4d32f2bf3"
      },
      "execution_count": null,
      "outputs": [
        {
          "output_type": "stream",
          "name": "stdout",
          "text": [
            "Downloading data from https://storage.googleapis.com/tensorflow/tf-keras-datasets/mnist.npz\n",
            "11490434/11490434 [==============================] - 0s 0us/step\n"
          ]
        }
      ]
    },
    {
      "cell_type": "code",
      "source": [
        "net = NeuralNet([784, 512, 392, 128, 32, 10])\n",
        "print(np.shape(net.B[3]))\n",
        "z, a = net.forward(x_train)\n",
        "print(np.shape(a[0]))\n",
        "da, db, dw, dz = net.backward(y_train)\n",
        "print(np.shape(dw[3]))\n",
        "w, b = net.gradient(0.01)\n",
        "print(np.shape(w[0]))"
      ],
      "metadata": {
        "colab": {
          "base_uri": "https://localhost:8080/"
        },
        "id": "ZwXsfD6vlt9a",
        "outputId": "dcf14b45-8fc3-4ef4-bd28-b90c2e10e741"
      },
      "execution_count": null,
      "outputs": [
        {
          "output_type": "stream",
          "name": "stdout",
          "text": [
            "(32, 1)\n",
            "(784, 60000)\n",
            "(392, 512)\n",
            "(512, 784)\n"
          ]
        }
      ]
    },
    {
      "cell_type": "code",
      "source": [
        "Net = NeuralNet([784, 392, 196, 10])"
      ],
      "metadata": {
        "id": "43h40WTwlt6Q"
      },
      "execution_count": null,
      "outputs": []
    },
    {
      "cell_type": "code",
      "source": [
        "cost_func = []\n",
        "accuracy = []\n",
        "for j in range(0,201):\n",
        "  Net.forward(x_train)\n",
        "  L, J = Net.cost(y_train)\n",
        "  acc = Net.accuracy(y_train)\n",
        "  cost_func.append(np.squeeze(J))\n",
        "  accuracy.append(acc)\n",
        "  if j%5 ==0:\n",
        "      print(f'epoch : {j} / cost : {np.squeeze(J)} / accuracy : {acc}')\n",
        "  Net.backward(y_train)\n",
        "  Net.gradient(0.03)"
      ],
      "metadata": {
        "colab": {
          "base_uri": "https://localhost:8080/"
        },
        "id": "uFklP_kzlt3C",
        "outputId": "81853dde-2ab9-49a0-a9d1-118170218796"
      },
      "execution_count": null,
      "outputs": [
        {
          "output_type": "stream",
          "name": "stdout",
          "text": [
            "epoch : 0 / cost : 2.324450010779332 / accuracy : 10.573681711467186\n",
            "epoch : 5 / cost : 2.1472961521110787 / accuracy : 12.354424018193852\n",
            "epoch : 10 / cost : 1.9997489294260975 / accuracy : 14.459363040460678\n",
            "epoch : 15 / cost : 1.8591304432949554 / accuracy : 16.936115483030697\n",
            "epoch : 20 / cost : 1.7208750465078424 / accuracy : 19.813915290718587\n",
            "epoch : 25 / cost : 1.5870969695808361 / accuracy : 23.04613232975943\n",
            "epoch : 30 / cost : 1.460989820362949 / accuracy : 26.530605896907947\n",
            "epoch : 35 / cost : 1.3448256397779033 / accuracy : 30.138282529315486\n",
            "epoch : 40 / cost : 1.2402348600704427 / accuracy : 33.72925583883179\n",
            "epoch : 45 / cost : 1.1476283323104297 / accuracy : 37.19296219563036\n",
            "epoch : 50 / cost : 1.0665271572664732 / accuracy : 40.45709600787992\n",
            "epoch : 55 / cost : 0.995917873242888 / accuracy : 43.48409017633075\n",
            "epoch : 60 / cost : 0.9345446015336786 / accuracy : 46.263688197203265\n",
            "epoch : 65 / cost : 0.88119483271854 / accuracy : 48.79770872809277\n",
            "epoch : 70 / cost : 0.8346785106479433 / accuracy : 51.09892077333039\n",
            "epoch : 75 / cost : 0.7939569383126457 / accuracy : 53.186394461501145\n",
            "epoch : 80 / cost : 0.7581386081653 / accuracy : 55.07994691645682\n",
            "epoch : 85 / cost : 0.7264705119354811 / accuracy : 56.80006225800509\n",
            "epoch : 90 / cost : 0.6983114086199802 / accuracy : 58.36594309369676\n",
            "epoch : 95 / cost : 0.6731564227694213 / accuracy : 59.79463676369008\n",
            "epoch : 100 / cost : 0.6505486175821426 / accuracy : 61.102384826744235\n",
            "epoch : 105 / cost : 0.6301406265168709 / accuracy : 62.30268690434789\n",
            "epoch : 110 / cost : 0.6116434946259482 / accuracy : 63.40678709792153\n",
            "epoch : 115 / cost : 0.5948030279194858 / accuracy : 64.42572159645054\n",
            "epoch : 120 / cost : 0.5794119640884071 / accuracy : 65.36829600376049\n",
            "epoch : 125 / cost : 0.56529338555152 / accuracy : 66.24213430464447\n",
            "epoch : 130 / cost : 0.5522965269599673 / accuracy : 67.05464557222159\n",
            "epoch : 135 / cost : 0.5402932557676403 / accuracy : 67.8120910970197\n",
            "epoch : 140 / cost : 0.5291720236173308 / accuracy : 68.51982724980536\n",
            "epoch : 145 / cost : 0.5188425721487342 / accuracy : 69.18225715444619\n",
            "epoch : 150 / cost : 0.5092216073111389 / accuracy : 69.80353484844746\n",
            "epoch : 155 / cost : 0.5002385992943692 / accuracy : 70.38741203872024\n",
            "epoch : 160 / cost : 0.4918331654956545 / accuracy : 70.93709103186832\n",
            "epoch : 165 / cost : 0.4839518140018474 / accuracy : 71.45563886044982\n",
            "epoch : 170 / cost : 0.47654419142849697 / accuracy : 71.94555000175974\n",
            "epoch : 175 / cost : 0.4695690642155286 / accuracy : 72.40897604590815\n",
            "epoch : 180 / cost : 0.4629873025112511 / accuracy : 72.84812346098244\n",
            "epoch : 185 / cost : 0.4567669474851008 / accuracy : 73.26472959137524\n",
            "epoch : 190 / cost : 0.45087659652268847 / accuracy : 73.66059773055208\n",
            "epoch : 195 / cost : 0.4452932324845811 / accuracy : 74.03711590129423\n",
            "epoch : 200 / cost : 0.4399921265931291 / accuracy : 74.39555865247297\n"
          ]
        }
      ]
    },
    {
      "cell_type": "code",
      "source": [
        "plt.plot(cost_func)\n",
        "plt.title(\"Multi Layer Loss\")\n",
        "plt.show()"
      ],
      "metadata": {
        "colab": {
          "base_uri": "https://localhost:8080/",
          "height": 452
        },
        "id": "A1wpS0wNltu7",
        "outputId": "a8c0c21c-1659-4193-e172-180ac8563d89"
      },
      "execution_count": null,
      "outputs": [
        {
          "output_type": "display_data",
          "data": {
            "text/plain": [
              "<Figure size 640x480 with 1 Axes>"
            ],
            "image/png": "[encoded data removed]"
          },
          "metadata": {}
        }
      ]
    },
    {
      "cell_type": "code",
      "source": [
        "plt.plot(accuracy)\n",
        "plt.title(\"Multi Layer Accuracy\")\n",
        "plt.show()"
      ],
      "metadata": {
        "colab": {
          "base_uri": "https://localhost:8080/",
          "height": 452
        },
        "id": "9889PPiWltpy",
        "outputId": "4016a444-33b4-4fe0-e897-6f62e8cd3a12"
      },
      "execution_count": null,
      "outputs": [
        {
          "output_type": "display_data",
          "data": {
            "text/plain": [
              "<Figure size 640x480 with 1 Axes>"
            ],
            "image/png": "[encoded data removed]"
          },
          "metadata": {}
        }
      ]
    },
    {
      "cell_type": "code",
      "source": [],
      "metadata": {
        "id": "NQ-bmMPUltlU"
      },
      "execution_count": null,
      "outputs": []
    }
  ]
}